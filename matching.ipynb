{
  "cells": [
    {
      "cell_type": "markdown",
      "metadata": {
        "id": "view-in-github",
        "colab_type": "text"
      },
      "source": [
        "<a href=\"https://colab.research.google.com/github/ijac13/LennyMatchingAlgorithm/blob/main/matching.ipynb\" target=\"_parent\"><img src=\"https://colab.research.google.com/assets/colab-badge.svg\" alt=\"Open In Colab\"/></a>"
      ]
    },
    {
      "cell_type": "code",
      "source": [
        "max_mentees_per_mentor = 1\n",
        "\n",
        "# Import PyDrive and associated libraries.\n",
        "# This only needs to be done once per notebook.\n",
        "from pydrive.auth import GoogleAuth\n",
        "from pydrive.drive import GoogleDrive\n",
        "from google.colab import auth\n",
        "from oauth2client.client import GoogleCredentials\n",
        "\n",
        "# Authenticate and create the PyDrive client.\n",
        "# This only needs to be done once per notebook.\n",
        "auth.authenticate_user()\n",
        "gauth = GoogleAuth()\n",
        "gauth.credentials = GoogleCredentials.get_application_default()\n",
        "drive = GoogleDrive(gauth)\n",
        "\n",
        "# Download a file based on its file ID.\n",
        "#\n",
        "# A file ID looks like: laggVyWshwcyP6kEI-y_W3P8D26sz\n",
        "\n",
        "# mentees_cohort3 = '1RSs3hAKgtXYfAc5EKBJOS2hzLf3PokIU'\n",
        "# mentors_cohort3 = '1K6B-ELJhb16ZLRLcN0leEd_ivQqm-Mg1'\n",
        "\n",
        "\n",
        "mentees = '1etrCGVBHNAbn4_TiFMeq3gLBEOv82lyo'\n",
        "\n",
        "mentors = '1do7i8izRO7M4zwe-b4YKfuG5bbUnlNOd'\n",
        "\n",
        "\n",
        "mentees_downloaded = drive.CreateFile({'id': mentees})\n",
        "mentors_downloaded = drive.CreateFile({'id': mentors})\n",
        "\n",
        "mentees_downloaded.GetContentFile('Mentees.csv')\n",
        "mentors_downloaded.GetContentFile('Mentors.csv')"
      ],
      "metadata": {
        "id": "7_q77lPyawa8"
      },
      "execution_count": 13,
      "outputs": []
    },
    {
      "cell_type": "code",
      "source": [
        "from google.colab import drive\n",
        "drive.mount('/content/drive')"
      ],
      "metadata": {
        "id": "hQnLTBv8Y8JI"
      },
      "execution_count": null,
      "outputs": []
    },
    {
      "cell_type": "code",
      "execution_count": 14,
      "metadata": {
        "id": "7G7hSdTLXMBg"
      },
      "outputs": [],
      "source": [
        "# Load Data\n",
        "import pandas as pd\n",
        "import numpy as np\n",
        "mentees = pd.read_csv('Mentees.csv')\n",
        "mentors = pd.read_csv('Mentors.csv')\n"
      ]
    },
    {
      "cell_type": "code",
      "source": [
        "#Clean DF\n",
        "#define function to merge columns with same names together\n",
        "def same_merge(x): return ','.join(x[x.notnull()].astype(str))\n",
        "\n",
        "#define new DataFrame that merges columns with same names together\n",
        "#mentees = mentees.groupby(level=0, axis=1).apply(lambda x: x.apply(same_merge, axis=1))\n",
        "\n",
        "print(mentees.columns.values)\n",
        "print(mentors.columns.values)\n",
        "\n"
      ],
      "metadata": {
        "colab": {
          "base_uri": "https://localhost:8080/"
        },
        "id": "1Sv_3dDRhrcq",
        "outputId": "cb9706b6-b498-4f39-86ad-6cab5ad3e938"
      },
      "execution_count": 15,
      "outputs": [
        {
          "output_type": "stream",
          "name": "stdout",
          "text": [
            "['Email' 'Full Name' 'Participation Commitment' 'Timezone' 'Offset'\n",
            " 'In-Person Meeting Location' 'Years of Experience' 'Avg Year of YOE'\n",
            " 'Roles' 'Industry' 'Company Stage' 'Topics' 'Most Important Attribute'\n",
            " 'Modified on' 'Created on' 'Cohorts' 'Matched result']\n",
            "['Email' 'Full Name' 'Participation Commitment' 'Timezones' 'Offset'\n",
            " 'In-Person Meeting Location' 'Years of Experience' 'Avg Year of YOE'\n",
            " 'Roles' 'Industry' 'Company Stage' 'Topics' 'Most Important Attribute'\n",
            " 'Modified on' 'Created on' 'Cohort' 'Matches result']\n"
          ]
        }
      ]
    },
    {
      "cell_type": "code",
      "source": [
        "mentees_flitered = mentees.filter(items=[\"Email\",\n",
        "                 \"Offset\",\n",
        "                 'In-Person Meeting Location',\n",
        "                 \"Avg Year of YOE\",\n",
        "                 'Roles',\n",
        "                 'Industry',\n",
        "                 'Company Stage',\n",
        "                 'Topics',\n",
        "                 'Most Important Attribute',\n",
        "                 'Created on'\n",
        "                ])\n",
        "\n",
        "mentors_flitered = mentors.filter(items=[\"Email\",\n",
        "                 \"Offset\",\n",
        "                 'In-Person Meeting Location',\n",
        "                 \"Avg Year of YOE\",\n",
        "                 'Roles',\n",
        "                 'Industry',\n",
        "                 'Company Stage',\n",
        "                 'Topics',\n",
        "                 'Most Important Attribute',\n",
        "                 'Created on'\n",
        "                ])\n",
        "#print(mentors_flitered.columns.values)\n",
        "#display(mentees_flitered)\n",
        "#display(mentors_flitered)"
      ],
      "metadata": {
        "id": "Qr_ZGHt7hh2F"
      },
      "execution_count": 16,
      "outputs": []
    },
    {
      "cell_type": "code",
      "execution_count": 17,
      "metadata": {
        "id": "ET5aNUoJXMBh"
      },
      "outputs": [],
      "source": [
        "#Input comma seperated list of value\n",
        "#Output list of values with whitespace stipped off\n",
        "def clean_multiselect(x):\n",
        "    if isinstance(x, str):\n",
        "        return list(map(str.strip,x.split(',')))\n",
        "    else:\n",
        "        return []\n"
      ]
    },
    {
      "cell_type": "code",
      "execution_count": 18,
      "metadata": {
        "id": "ZYkiJDm-XMBh"
      },
      "outputs": [],
      "source": [
        "#Input Dataframe and multi-select field to Binarize\n",
        "from sklearn.preprocessing import MultiLabelBinarizer\n",
        "def MultiLableBinarize_df(input_frame, collumn_name):\n",
        "    nested_list = list(map(clean_multiselect,input_frame[collumn_name].to_list()))\n",
        "    mlb = MultiLabelBinarizer()\n",
        "    mlb_df = pd.DataFrame(mlb.fit_transform(nested_list), columns=mlb.classes_)\n",
        "    bigger = pd.concat([input_frame,mlb_df],axis=1)\n",
        "    return bigger\n"
      ]
    },
    {
      "cell_type": "code",
      "execution_count": 19,
      "metadata": {
        "id": "wpNX-NECXMBh"
      },
      "outputs": [],
      "source": [
        "class multiSelect:\n",
        "    def __init__(self, data = ['empty']):\n",
        "        if isinstance(data, str):\n",
        "            self.data = clean_multiselect(data)\n",
        "        else:\n",
        "            self.data = data\n",
        "    def __repr__(self):\n",
        "        return repr(self.data)"
      ]
    },
    {
      "cell_type": "code",
      "execution_count": 20,
      "metadata": {
        "id": "KsSBIj1-XMBh"
      },
      "outputs": [],
      "source": [
        "class distanceEstimator:\n",
        "    def __init__(self, mentor_mentee_question_mapping = []):\n",
        "        self.mentor_mentee_question_mapping = mentor_mentee_question_mapping\n",
        "\n",
        "    def multiSelectDistance(self,row,mentee_selection,mentor_selection):\n",
        "        distance_score = 0\n",
        "        matched = []\n",
        "        if isinstance(mentee_selection,list) and isinstance(mentor_selection,list):\n",
        "            for selection in mentee_selection:\n",
        "                if selection in mentor_selection:\n",
        "                    distance_score = distance_score - 10\n",
        "                    matched.append(selection)\n",
        "        return distance_score, matched\n",
        "\n",
        "    def yoeDistance(self, mentor_yoe, mentee_yoe):\n",
        "        difference = mentor_yoe - mentee_yoe\n",
        "        if difference >= 8:\n",
        "            return 50\n",
        "        elif 4 <= difference < 8:\n",
        "            return 100\n",
        "        elif 2 <= difference < 4:\n",
        "            return 160\n",
        "        else:  # difference <= 1 or mentor_yoe <= mentee_yoe\n",
        "            return -1000\n",
        "    def _estimateDistance(self, row):\n",
        "        matched = []\n",
        "        distance_score = 1000\n",
        "        for mapping in self.mentor_mentee_question_mapping:\n",
        "          if mapping['mentee_question'] == mapping['mentor_question']:\n",
        "            mentee_question = mapping['mentee_question'] + \"-mentee\"\n",
        "            mentor_question = mapping['mentee_question'] + '-mentor'\n",
        "          else:\n",
        "            mentee_question = mapping['mentee_question']\n",
        "            mentor_question = mapping['mentor_question']\n",
        "          if mapping['question_type'] == 'multi-select':\n",
        "            mentee_selection = row[mentee_question].data\n",
        "            mentor_selection = row[mentor_question].data\n",
        "\n",
        "            distance_score_temp, matched_temp = self.multiSelectDistance(row,mentee_selection,mentor_selection)\n",
        "\n",
        "            distance_score = distance_score + distance_score_temp*mapping['question_weight']\n",
        "            matched = matched + matched_temp\n",
        "\n",
        "        # Adding the YOE scoring\n",
        "        mentor_yoe = float(row[\"Avg Year of YOE-mentor\"])\n",
        "        mentee_yoe = float(row[\"Avg Year of YOE-mentee\"])\n",
        "        distance_score -= self.yoeDistance(mentor_yoe, mentee_yoe)\n",
        "\n",
        "\n",
        "        return distance_score, multiSelect(matched)\n",
        "\n",
        "\n",
        "    def estimateDistance(self, row):\n",
        "        distance_score, matched = self._estimateDistance(row)\n",
        "        return distance_score\n",
        "\n",
        "    def matched(self,row):\n",
        "        distance_score, matched = self._estimateDistance(row)\n",
        "        return matched"
      ]
    },
    {
      "cell_type": "code",
      "source": [
        "print(mentees_flitered.columns.values)\n",
        "print(mentors_flitered.columns.values)"
      ],
      "metadata": {
        "colab": {
          "base_uri": "https://localhost:8080/"
        },
        "id": "eF3e-AScn0k7",
        "outputId": "293fda1f-1d72-42cb-b644-08b1961befc3"
      },
      "execution_count": 21,
      "outputs": [
        {
          "output_type": "stream",
          "name": "stdout",
          "text": [
            "['Email' 'Offset' 'In-Person Meeting Location' 'Avg Year of YOE' 'Roles'\n",
            " 'Industry' 'Company Stage' 'Topics' 'Most Important Attribute'\n",
            " 'Created on']\n",
            "['Email' 'Offset' 'In-Person Meeting Location' 'Avg Year of YOE' 'Roles'\n",
            " 'Industry' 'Company Stage' 'Topics' 'Most Important Attribute'\n",
            " 'Created on']\n"
          ]
        }
      ]
    },
    {
      "cell_type": "code",
      "execution_count": 22,
      "metadata": {
        "id": "ZmWJQniwXMBh"
      },
      "outputs": [],
      "source": [
        "mentor_mentee_question_mapping = [{'mentee_question':'Offset',\n",
        "                                   'mentor_question':'Offset',\n",
        "                                   'question_type': 'multi-select',\n",
        "                                   'question_weight': 2,},\n",
        "                                  {'mentee_question':'In-Person Meeting Location',\n",
        "                                   'mentor_question':'In-Person Meeting Location',\n",
        "                                   'question_type': 'multi-select',\n",
        "                                   'question_weight': 1,},\n",
        "                                  {'mentee_question':'Roles',\n",
        "                                   'mentor_question':'Roles',\n",
        "                                   'question_type': 'multi-select',\n",
        "                                   'question_weight': 8,},\n",
        "                                  {'mentee_question':'Industry',\n",
        "                                   'mentor_question':'Industry',\n",
        "                                   'question_type': 'multi-select',\n",
        "                                   'question_weight': 6,},\n",
        "                                  {'mentee_question':'Company Stage',\n",
        "                                   'mentor_question':'Company Stage',\n",
        "                                   'question_type': 'multi-select',\n",
        "                                   'question_weight': 5,},\n",
        "                                  {'mentee_question':'Topics',\n",
        "                                   'mentor_question':'Topics',\n",
        "                                   'question_type': 'multi-select',\n",
        "                                   'question_weight': 7,}\n",
        "                                  ]\n",
        "\n",
        "for mapping in mentor_mentee_question_mapping:\n",
        "  if mapping['question_type'] == 'multi-select':\n",
        "    mentees_flitered[mapping['mentee_question']] = mentees_flitered[mapping['mentee_question']].apply(multiSelect)\n",
        "    mentors_flitered[mapping['mentor_question']] = mentors_flitered[mapping['mentor_question']].apply(multiSelect)\n",
        "\n",
        "\n",
        "combined = mentors_flitered.join(mentees_flitered,how='cross',lsuffix='-mentor',rsuffix='-mentee')"
      ]
    },
    {
      "cell_type": "code",
      "source": [
        "#display(combined)"
      ],
      "metadata": {
        "id": "YQ8ezRYLlegi"
      },
      "execution_count": 23,
      "outputs": []
    },
    {
      "cell_type": "code",
      "execution_count": 24,
      "metadata": {
        "id": "i9N59PRFXMBh"
      },
      "outputs": [],
      "source": [
        "dE = distanceEstimator(mentor_mentee_question_mapping)\n",
        "combined['distance_score'] = combined.apply(dE.estimateDistance, axis = 'columns')\n",
        "combined['matched_criteria'] = combined.apply(dE.matched, axis = 'columns')\n",
        "combined = combined.sort_values(by=['distance_score'])\n",
        "#display(combined)"
      ]
    },
    {
      "cell_type": "code",
      "execution_count": 25,
      "metadata": {
        "id": "F__SZXxxXMBi"
      },
      "outputs": [],
      "source": [
        "matched_mentors = {}\n",
        "matched_mentees = {}\n",
        "matched_list = []\n",
        "\n",
        "mentee_id = 'Email-mentee'\n",
        "mentor_id = 'Email-mentor'\n",
        "\n",
        "for index, row in combined.iterrows():\n",
        "    #print(type(row['Id-mentor']))\n",
        "    #print(type(row['Id-mentee']))\n",
        "    #print(row['Id-mentee'] == row['Id-mentor'])\n",
        "\n",
        "    # Extract YOE for mentor and mentee\n",
        "    mentor_yoe = float(row[\"Avg Year of YOE-mentor\"])\n",
        "    mentee_yoe = float(row[\"Avg Year of YOE-mentee\"])\n",
        "\n",
        "    # Skip this iteration if mentor's YOE is less than mentee's YOE\n",
        "    if mentor_yoe <= mentee_yoe:\n",
        "        continue\n",
        "    # Existing conditions and logic\n",
        "    if row[mentor_id] not in matched_mentors:\n",
        "        matched_mentors[row[mentor_id]] = 0\n",
        "    if row[mentee_id] not in matched_mentees:\n",
        "        matched_mentees[row[mentee_id]] = 0\n",
        "    if row[mentee_id] == row[mentor_id]:\n",
        "        #print('skipped, matching to self')\n",
        "        continue\n",
        "    if matched_mentors[row[mentor_id]] >= max_mentees_per_mentor:\n",
        "        continue\n",
        "    if matched_mentees[row[mentee_id]] >=1:\n",
        "        continue\n",
        "    matched_mentors[row[mentor_id]] = matched_mentors[row[mentor_id]] + 1\n",
        "    matched_mentees[row[mentee_id]] = matched_mentees[row[mentee_id]] + 1\n",
        "    matched_list.append({mentor_id:row[mentor_id],mentee_id:row[mentee_id], 'distance_score':row['distance_score'], 'matched':str(row['matched_criteria'])})\n",
        "\n",
        "results = pd.DataFrame(matched_list)\n",
        "reuslts_wide = results.join(mentors_flitered.set_index('Email'),on = mentor_id, rsuffix='-mentor').join(mentees_flitered.set_index('Email'),on = mentee_id,lsuffix='-mentor', rsuffix='-mentee')\n",
        "\n",
        "results.to_csv('matched.csv', index=False)\n",
        "\n",
        "reuslts_wide.to_csv('matched_wide.csv', index=False)\n",
        "#print(matched_mentors)\n",
        "#print(matched_mentees)"
      ]
    }
  ],
  "metadata": {
    "kernelspec": {
      "display_name": "Python 3",
      "language": "python",
      "name": "python3"
    },
    "language_info": {
      "codemirror_mode": {
        "name": "ipython",
        "version": 3
      },
      "file_extension": ".py",
      "mimetype": "text/x-python",
      "name": "python",
      "nbconvert_exporter": "python",
      "pygments_lexer": "ipython3",
      "version": "3.11.4"
    },
    "orig_nbformat": 4,
    "colab": {
      "provenance": [],
      "include_colab_link": true
    }
  },
  "nbformat": 4,
  "nbformat_minor": 0
}